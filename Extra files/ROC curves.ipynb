{
 "cells": [
  {
   "cell_type": "markdown",
   "id": "89b506c1",
   "metadata": {},
   "source": [
    "# ROC curves"
   ]
  },
  {
   "cell_type": "markdown",
   "id": "c86af21d",
   "metadata": {},
   "source": [
    "ROC curves (also known as reciever operating characteristic curves) is a visual representation of 'how good' our binary classification model is. First of all, what do we mean by 'binary classification'? Imagine we have a set of data with two possible outcomes. In our case this may be benign and deleterious mutations. When we do 'binary classification' we essentially attempt to classify the benign mutations and the deleterious mutations. The ROC curve basically tells us how good our model is in doing this.\n",
    "\n",
    "So how might this visualiation look? In ROC curves we plot a graph of something called the 'true positive rate' against the 'false positive rate'. Perhaps you may understand what they mean when you look at the name.\n",
    "\n",
    "'True positive' means the data which has correctly been classed as positive by our model. Example, if we have a data `[0,0,0]`, and our model classes that data as `[0,0,0]`, then we have three true positives.\n",
    "\n",
    "'False positive' on the other hand means that we have data which has incorrectly been classed as positive by our model. In our example above, for the data `[0,0,0]`, if our model classes this as `[0,1,0]` instead, then we would have one false positive.\n",
    "\n",
    "But this is only half of it, as we need the **rates** of these so we can plot them. What we mean by the 'true positive rate' is the proportion of positive data correctly classed as positive data. Likewise, false postive rate means the proportion of positive data incorrectly classified.\n",
    "\n",
    "$$TPR = \\frac{TP}{TP+FN}$$\n",
    "\n",
    "$$FPR = \\frac{FP}{FP+TN}$$\n",
    "\n",
    "where $TP$ stands for \"true positive\", $FP$ stands for \"false positive\", $FN$ stands for \"false negative\" and $TN$ stands for \"true negative\".\n",
    "\n",
    "I believe that these rates could be interpreted as conditional probability. That would make sense because of their form and because they take values between 0 and 1, as we will see in the plots below."
   ]
  },
  {
   "cell_type": "markdown",
   "id": "88a22ac6",
   "metadata": {},
   "source": [
    "### Imports"
   ]
  },
  {
   "cell_type": "code",
   "execution_count": 1,
   "id": "5c836436",
   "metadata": {},
   "outputs": [],
   "source": [
    "import pandas as pd\n",
    "import scipy.stats\n",
    "import re\n",
    "\n",
    "import matplotlib.pyplot as plt\n",
    "import matplotlib\n",
    "import seaborn as sns\n",
    "\n",
    "from sklearn.metrics import roc_curve, auc, roc_auc_score\n",
    "import numpy as np\n",
    "\n",
    "from sklearn.metrics import confusion_matrix\n",
    "\n",
    "import matplotlib.style #Some style nonsense\n",
    "import matplotlib as mpl #Some more style nonsense\n",
    "\n",
    "mpl.rcParams[\"legend.frameon\"] = False\n",
    "mpl.rcParams['figure.dpi']=300 # dots per inch"
   ]
  },
  {
   "cell_type": "markdown",
   "id": "c77900b7",
   "metadata": {},
   "source": [
    "### Gather properties of protein and structure"
   ]
  },
  {
   "cell_type": "code",
   "execution_count": null,
   "id": "a519fba5",
   "metadata": {},
   "outputs": [],
   "source": [
    "## Read in the database of all mutation measurements - this was generated from the calculate notebook\n",
    "calculatedProperties = pd.read_csv(\"./TP53Exploration.csv\")\n",
    "\n",
    "# Assign structure from universal dataset and also the chain which we are looking at\n",
    "pdb = \"2ac0\"\n",
    "chain = \"A\"\n",
    "\n",
    "chargeModel = \"deltaCharge\" #or \"deltaChargeHP\" if histidine is positive"
   ]
  },
  {
   "cell_type": "code",
   "execution_count": null,
   "id": "16deb549",
   "metadata": {},
   "outputs": [],
   "source": [
    "## A couple of tools for converting amino acid codes back and forth\n",
    "aaconv = {'CYS': 'C', 'ASP': 'D', 'SER': 'S', 'GLN': 'Q', 'LYS': 'K',\n",
    "     'ILE': 'I', 'PRO': 'P', 'THR': 'T', 'PHE': 'F', 'ASN': 'N', \n",
    "     'GLY': 'G', 'HIS': 'H', 'LEU': 'L', 'ARG': 'R', 'TRP': 'W', \n",
    "     'ALA': 'A', 'VAL':'V', 'GLU': 'E', 'TYR': 'Y', 'MET': 'M',\n",
    "     'H1S': 'H', 'H2S': 'H'}\n",
    "\n",
    "def threetoone(x):\n",
    "    if len(x) % 3 != 0: \n",
    "        raise ValueError('Input length should be a multiple of three')\n",
    "\n",
    "    y = ''\n",
    "    for i in range(len(x) // 3):\n",
    "            y += aaconv[x[3 * i : 3 * i + 3]]\n",
    "    return y"
   ]
  },
  {
   "cell_type": "markdown",
   "id": "fb3b231c",
   "metadata": {},
   "source": [
    "### Loading in data and simplyfing our tables"
   ]
  },
  {
   "cell_type": "code",
   "execution_count": null,
   "id": "9f7686a3",
   "metadata": {},
   "outputs": [],
   "source": [
    "pd.read_csv(\"./FH_mutations_BayesDel_Cleaned_2.csv\")"
   ]
  },
  {
   "cell_type": "code",
   "execution_count": null,
   "id": "0c908c7f",
   "metadata": {},
   "outputs": [],
   "source": [
    "## Load in the mutations observed\n",
    "cancer = pd.read_csv(\"./processed_cancer_tp53.csv\")\n",
    "healthy = pd.read_csv(\"./processed_healthy_tp53.csv\")\n",
    "benign = pd.read_csv(\"./processed_benign_tp53.csv\")\n",
    "benignScreen = pd.read_csv(\"./processed_screen_benign_tp53.csv\")\n",
    "deleteriousScreen = pd.read_csv(\"./processed_screen_deleterious_tp53.csv\")\n",
    "screen = pd.read_csv(\"./processed_screen_tp53.csv\")"
   ]
  },
  {
   "cell_type": "code",
   "execution_count": null,
   "id": "3d3afc23",
   "metadata": {},
   "outputs": [],
   "source": [
    "#simplify the tables to just the columns we're interested in \n",
    "\n",
    "cancer_short = cancer[[\"From\", \"To\", \"aminoacid\"]]\n",
    "healthy_short= healthy[[\"From\", \"To\", \"aminoacid\", \"summed_vaf\"]]\n",
    "benign_short = benign[[\"From\",\"To\",\"aminoacid\"]]\n",
    "benignScreen_short = benignScreen[[\"From\",\"To\",\"aminoacid\",\"RFS_H1299\"]]\n",
    "delScreen_short = deleteriousScreen[[\"From\",\"To\",\"aminoacid\",\"RFS_H1299\"]]\n",
    "screen_short = screen[[\"From\",\"To\",\"aminoacid\",\"RFS_H1299\"]]\n",
    "\n",
    "#just look at one structure- Is this necessary\n",
    "# look at the calculated properties of only the protein we are interested in, characterised with variable pdb\n",
    "calculatedProperties = calculatedProperties[calculatedProperties[\"pdb\"].str.contains(pdb)==True]\n",
    "\n",
    "#rename some columns\n",
    "calculatedProperties_short = calculatedProperties[[\"mut_from\", \"mut_to\", \"pdb_rid\", \"ddg\", \"msms\", \"dnaDist\", \"chainDist\", chargeModel]]\n",
    "calculatedProperties_short = calculatedProperties_short.rename(columns={\"mut_from\": \"From\", \"mut_to\": \"To\", \"pdb_rid\": \"aminoacid\"})\n",
    "calculatedProperties_short[\"To\"] = calculatedProperties_short[\"To\"].apply(lambda x: aaconv[x])\n",
    "calculatedProperties_short[\"From\"] = calculatedProperties_short[\"From\"].apply(lambda x: aaconv[x])"
   ]
  },
  {
   "cell_type": "markdown",
   "id": "8085bd0d",
   "metadata": {},
   "source": [
    "### Turn everything into strings to prevent errors + consistency"
   ]
  },
  {
   "cell_type": "code",
   "execution_count": null,
   "id": "f14782b6",
   "metadata": {},
   "outputs": [],
   "source": [
    "calculatedProperties_short = calculatedProperties_short.astype(str)\n",
    "cancer_short = cancer_short.astype(str)\n",
    "healthy_short = healthy_short.astype(str)\n",
    "benign_short = benign_short.astype(str)\n",
    "benignScreen_short = benignScreen_short.astype(str)\n",
    "delScreen_short = delScreen_short.astype(str)\n",
    "screen_short = screen_short.astype(str)"
   ]
  },
  {
   "cell_type": "markdown",
   "id": "320ffb4d",
   "metadata": {},
   "source": [
    "### Merging the data"
   ]
  },
  {
   "cell_type": "code",
   "execution_count": null,
   "id": "49d38c18",
   "metadata": {},
   "outputs": [],
   "source": [
    "## Merge the types of mutations\n",
    "healthy_calc = healthy_short.merge(calculatedProperties_short, on = [\"aminoacid\", \"From\", \"To\"])\n",
    "cancer_calc = cancer_short.merge(calculatedProperties_short, on = [\"aminoacid\", \"From\", \"To\"])\n",
    "benign_calc = benign_short.merge(calculatedProperties_short, on = [\"aminoacid\", \"From\", \"To\"])\n",
    "bs_calc = benignScreen_short.merge(calculatedProperties_short, on = [\"aminoacid\", \"From\", \"To\"])\n",
    "ds_calc = delScreen_short.merge(calculatedProperties_short, on = [\"aminoacid\", \"From\", \"To\"])\n",
    "screen_calc = screen_short.merge(calculatedProperties_short, on = [\"aminoacid\", \"From\", \"To\"])\n",
    "benign_calc.head()"
   ]
  },
  {
   "cell_type": "code",
   "execution_count": null,
   "id": "fd66740a",
   "metadata": {},
   "outputs": [],
   "source": [
    "benign_calc[\"source\"] = \"benign\" # benign_calc is the list of benign mutations. So we'd like to make that clear on our table\n",
    "bs_calc[\"source\"] = \"benign\" # et al\n",
    "ds_calc[\"source\"] = \"deleterious\"\n",
    "\n",
    "healthy_calc[\"source\"] = \"healthy\"\n",
    "cancer_calc[\"source\"] = \"cancer\"\n",
    "\n",
    "bs_calc.head()"
   ]
  },
  {
   "cell_type": "markdown",
   "id": "7b007477",
   "metadata": {},
   "source": [
    "### Prepare data for binary classification"
   ]
  },
  {
   "cell_type": "code",
   "execution_count": null,
   "id": "b2f8c732",
   "metadata": {},
   "outputs": [],
   "source": [
    "logreg_data = pd.concat([bs_calc, ds_calc])\n",
    "\n",
    "logreg_data = pd.get_dummies(logreg_data, columns = [\"source\"], drop_first = True)\n",
    "\n",
    "logreg_data"
   ]
  },
  {
   "cell_type": "code",
   "execution_count": null,
   "id": "87be289c",
   "metadata": {},
   "outputs": [],
   "source": [
    "## Look at all parameters - can sub the two energies for average\n",
    "## (cant include all three as they are convoluted and the model then wont converge)\n",
    "logreg_y = logreg_data[[\"source_deleterious\"]]\n",
    "logreg_x = logreg_data[[\"ddg\", \"dnaDist\", chargeModel, \"chainDist\"]]\n",
    "#logreg_x = logreg_data[[\"Rosetta_energy\"]]\n",
    "\n",
    "logreg_x = logreg_x.astype(float)\n",
    "#for k in logreg_x.keys():\n",
    "#    logreg_x[k] = stats.zscore(logreg_x[k])\n",
    "\n",
    "plotting_frame = pd.concat([logreg_x, logreg_y], axis =1)"
   ]
  },
  {
   "cell_type": "code",
   "execution_count": null,
   "id": "09417c09",
   "metadata": {},
   "outputs": [],
   "source": [
    "true_values = plotting_frame[\"source_deleterious\"].to_list()"
   ]
  },
  {
   "cell_type": "markdown",
   "id": "fd998d6d",
   "metadata": {},
   "source": [
    "### Generating data for ROC curve\n",
    "So in the cell below we see a for loop. This for loop iterates over an array `np.arange(-0.2,20,0.1)`. So it iterates over all values from -0.2 to 20 with a step of 0.1 each time. What does this array actually represent? It represents our cutoff thresholds.\n",
    "\n",
    "I am still not entirely sure what this 'cutoff' represents to be honest. My guess would be that it's a cutoff point where we do not consider data from beyond this point as they may be anomalous. But this is a question to clarify with the professor. Anyways, we iterate over all cutoff values. Every single point on our ROC curve will correspond to one of these cutoff values, and you'll see more of what I mean when you take a look at them below."
   ]
  },
  {
   "cell_type": "code",
   "execution_count": null,
   "id": "a9416241",
   "metadata": {},
   "outputs": [],
   "source": [
    "#fpr = dict()\n",
    "#tpr = dict()\n",
    "#roc_auc = dict()\n",
    "\n",
    "## Generate the data for a roc curve\n",
    "predlist = []\n",
    "roc_curvedata = []\n",
    "for i in np.arange(-5.0,20, 0.1):\n",
    "    pred = []\n",
    "    for item in plotting_frame[\"ddg\"]:\n",
    "        predvalue = 1 if item >= i else 0 # This line determines which group everything is in-get it right!\n",
    "        pred.append(predvalue)\n",
    "    predlist.append(pred)\n",
    "    fpr, tpr, _ = roc_curve(true_values, pred)\n",
    "    roc_auc = auc(fpr, tpr)\n",
    "    curvelist = [i, fpr[1], tpr[1], roc_auc]\n",
    "    roc_curvedata.append(curvelist)"
   ]
  },
  {
   "cell_type": "code",
   "execution_count": null,
   "id": "2750c3f1",
   "metadata": {},
   "outputs": [],
   "source": [
    "roc_dataframe = pd.DataFrame(roc_curvedata, columns=[\"threshold\", \"fpr\", \"tpr\", \"auc\"])"
   ]
  },
  {
   "cell_type": "code",
   "execution_count": null,
   "id": "f310ecd5",
   "metadata": {},
   "outputs": [],
   "source": [
    "fig,ax = plt.subplots()\n",
    "g = plt.plot(roc_dataframe[\"fpr\"], roc_dataframe[\"tpr\"], c = \"r\")\n",
    "g2 = plt.plot(np.arange(0,1.1, 0.1), np.arange(0,1.1,0.1), linestyle = \"dashed\")\n",
    "#g.set_xlim(0,1)\n",
    "#g.set_ylim(0,1.01)\n",
    "\n",
    "g3 = sns.scatterplot(x = [0.262], y= [0.756], zorder = 3, color = \"white\", edgecolor = \"k\", linewidth = 1)\n",
    "g4 = sns.scatterplot(x = [0.126], y= [0.614], zorder = 3, color = \"black\", edgecolor = \"k\", linewidth = 1)\n",
    "\n",
    "plt.xlabel(\"False Positive Rate\")\n",
    "plt.ylabel(\"True Positive Rate\")\n",
    "plt.title(\"ROC analysis, ddg\")\n",
    "\n",
    "plt.annotate(\"Foldx Energy Cutoff 1.6 kcal/mol\", (0,0.85))\n",
    "plt.annotate(\"Foldx Energy Cutoff 2.5 kcal/mol\", (0,0.65))\n",
    "\n",
    "plt.grid()\n",
    "plt.savefig(\"Foldx_ROCcurve_v1.pdf\")\n",
    "plt.show()"
   ]
  },
  {
   "cell_type": "markdown",
   "id": "50d1df0a",
   "metadata": {},
   "source": [
    "Now that we have actually got the graphs, what do they represent? How on earth does this tell us whether our classification model is good or not?\n",
    "\n",
    "The answer lies under the curve. I'm talking about the area. So in the two plots above, we have two lines each. A red line and a blue dashed line. The red line as you may be able to guess is our data. That is our ROC curve for our dataset. So why is the blue line there?\n",
    "\n",
    "Well if we look at the blue line, we see that it's just a straight line through the origin. We can also see that it intersects the corners of the grids. So we can see that the true positive rate = false positive rate of the blue curve. Let's take a step back to when we defined what those rates were at the beginning to understand this.\n",
    "\n",
    "If our true positive rate is the same as our false positive rate, that means our binary classification model has a 50% chance of correctly deducing positive data. So that would suggest that our binary classification model in that instance is random. Half the time it gets it right, half the time it's wrong. So based on that analogy, one may say that the blue line must be a very bad model. It randomly classes the data! And it is a bad model. But we can't figure out these percentages for lines like the red one where it's constantly changing as the threshold changes.\n",
    "\n",
    "That's why we often quantify the performance of our classification models with \"AUC\" values. AUC stands for \"area underneath curve\". So we would like to take a look at the area underneath the red curve to see if our classification model is a good fit. The blue curve has an area of 0.5. We know that 0.5 is a bad fit, so we would want to look for anything above 0.5.\n",
    "\n",
    "But actually, what's accepted as a good model would have an AUC of about 0.8 or higher. 0.9 or higher is regarded as outstanding.\n",
    "\n",
    "I believe this is one of the keys of our group project. We want to maximise the area underneath the red curve, so to make our classification model better."
   ]
  },
  {
   "cell_type": "code",
   "execution_count": null,
   "id": "735f7b27",
   "metadata": {},
   "outputs": [],
   "source": [
    "predlist = []\n",
    "roc_curvedata = []\n",
    "for i in np.arange(2.8,30, 0.1):\n",
    "    pred = []\n",
    "    for item in plotting_frame[\"dnaDist\"]:\n",
    "        predvalue = 0 if item >= i else 1 # change this line based on the data!\n",
    "        pred.append(predvalue)\n",
    "    predlist.append(pred)\n",
    "    fpr, tpr, _ = roc_curve(true_values, pred)\n",
    "    roc_auc = auc(fpr, tpr)\n",
    "    curvelist = [i, fpr[1], tpr[1], roc_auc]\n",
    "    roc_curvedata.append(curvelist)\n",
    "\n",
    "roc_dataframe2 = pd.DataFrame(roc_curvedata, columns=[\"threshold\", \"fpr\", \"tpr\", \"auc\"])"
   ]
  },
  {
   "cell_type": "code",
   "execution_count": null,
   "id": "77aa48b7",
   "metadata": {},
   "outputs": [],
   "source": [
    "fig,ax = plt.subplots()\n",
    "g = plt.plot(roc_dataframe2[\"fpr\"], roc_dataframe2[\"tpr\"], c = \"r\")\n",
    "g2 = plt.plot(np.arange(0,1.1, 0.1), np.arange(0,1.1,0.1), linestyle = \"dashed\")\n",
    "#g.set_xlim(0,1)\n",
    "#g.set_ylim(0,1.01)\n",
    "\n",
    "#g3 = sns.scatterplot(x = [0.286], y= [0.777], zorder = 3, color = \"white\", edgecolor = \"k\", linewidth = 1)\n",
    "#plt.annotate(\"Binding Site Distance Cutoff 11.3 anstroms\", (-0.04,0.85), ha = \"left\")\n",
    "plt.xlabel(\"False Positive Rate\", size = 16)\n",
    "plt.ylabel(\"True Positive Rate\", size =16)\n",
    "plt.annotate(\"SAS Cutoff 36.3 Angstroms\", (-0.04,0.85), ha = \"left\")\n",
    "g3 = sns.scatterplot(x = [0.361], y= [0.783], zorder = 3, color = \"white\", edgecolor = \"k\", linewidth = 1)\n",
    "plt.savefig(\"Distance_ROCcurve_v1.pdf\")\n",
    "plt.show()"
   ]
  },
  {
   "cell_type": "code",
   "execution_count": null,
   "id": "29c6adcc",
   "metadata": {},
   "outputs": [],
   "source": [
    "roc_auc"
   ]
  },
  {
   "cell_type": "markdown",
   "id": "48eb6555",
   "metadata": {},
   "source": [
    "# What next?\n",
    "I've had a look at the four linked papers in the project briefing. Only the first paper contained ROC curves. But even then, that paper didn't actually compute the area underneath the ROC curve. Maybe it's not as important as we think it is, or it could just be something which was missed out in the paper."
   ]
  },
  {
   "cell_type": "code",
   "execution_count": null,
   "id": "89280a5f",
   "metadata": {},
   "outputs": [],
   "source": []
  }
 ],
 "metadata": {
  "kernelspec": {
   "display_name": "Python 3 (ipykernel)",
   "language": "python",
   "name": "python3"
  },
  "language_info": {
   "codemirror_mode": {
    "name": "ipython",
    "version": 3
   },
   "file_extension": ".py",
   "mimetype": "text/x-python",
   "name": "python",
   "nbconvert_exporter": "python",
   "pygments_lexer": "ipython3",
   "version": "3.9.13"
  }
 },
 "nbformat": 4,
 "nbformat_minor": 5
}
